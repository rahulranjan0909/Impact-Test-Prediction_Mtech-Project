{
 "cells": [
  {
   "cell_type": "code",
   "execution_count": 245,
   "metadata": {},
   "outputs": [
    {
     "name": "stdout",
     "output_type": "stream",
     "text": [
      "<class 'pandas.core.frame.DataFrame'>\n",
      "RangeIndex: 39 entries, 0 to 38\n",
      "Data columns (total 7 columns):\n",
      " #   Column                Non-Null Count  Dtype  \n",
      "---  ------                --------------  -----  \n",
      " 0   Layer Height          39 non-null     float64\n",
      " 1   Top/Bottom Pattern    39 non-null     object \n",
      " 2   Intial layer Height   39 non-null     float64\n",
      " 3   Infill Density        39 non-null     int64  \n",
      " 4   Infill Pattern        39 non-null     object \n",
      " 5   Infill Line Width     39 non-null     object \n",
      " 6   Impact Strength(J/m)  39 non-null     float64\n",
      "dtypes: float64(3), int64(1), object(3)\n",
      "memory usage: 1.7+ KB\n"
     ]
    },
    {
     "data": {
      "text/html": [
       "<div>\n",
       "<style scoped>\n",
       "    .dataframe tbody tr th:only-of-type {\n",
       "        vertical-align: middle;\n",
       "    }\n",
       "\n",
       "    .dataframe tbody tr th {\n",
       "        vertical-align: top;\n",
       "    }\n",
       "\n",
       "    .dataframe thead th {\n",
       "        text-align: right;\n",
       "    }\n",
       "</style>\n",
       "<table border=\"1\" class=\"dataframe\">\n",
       "  <thead>\n",
       "    <tr style=\"text-align: right;\">\n",
       "      <th></th>\n",
       "      <th>Layer Height</th>\n",
       "      <th>Top/Bottom Pattern</th>\n",
       "      <th>Intial layer Height</th>\n",
       "      <th>Infill Density</th>\n",
       "      <th>Infill Pattern</th>\n",
       "      <th>Infill Line Width</th>\n",
       "      <th>Impact Strength(J/m)</th>\n",
       "    </tr>\n",
       "  </thead>\n",
       "  <tbody>\n",
       "    <tr>\n",
       "      <th>0</th>\n",
       "      <td>0.2</td>\n",
       "      <td>Line</td>\n",
       "      <td>0.2</td>\n",
       "      <td>100</td>\n",
       "      <td>Line</td>\n",
       "      <td>0.2</td>\n",
       "      <td>23.6</td>\n",
       "    </tr>\n",
       "    <tr>\n",
       "      <th>1</th>\n",
       "      <td>0.2</td>\n",
       "      <td>Line</td>\n",
       "      <td>0.2</td>\n",
       "      <td>100</td>\n",
       "      <td>Grid</td>\n",
       "      <td>0.2</td>\n",
       "      <td>29.0</td>\n",
       "    </tr>\n",
       "    <tr>\n",
       "      <th>2</th>\n",
       "      <td>0.2</td>\n",
       "      <td>Line</td>\n",
       "      <td>0.2</td>\n",
       "      <td>100</td>\n",
       "      <td>Triangles</td>\n",
       "      <td>0.2</td>\n",
       "      <td>62.6</td>\n",
       "    </tr>\n",
       "    <tr>\n",
       "      <th>3</th>\n",
       "      <td>0.2</td>\n",
       "      <td>Line</td>\n",
       "      <td>0.2</td>\n",
       "      <td>100</td>\n",
       "      <td>Tri-Hexagon</td>\n",
       "      <td>0.2</td>\n",
       "      <td>13.6</td>\n",
       "    </tr>\n",
       "    <tr>\n",
       "      <th>4</th>\n",
       "      <td>0.2</td>\n",
       "      <td>Line</td>\n",
       "      <td>0.2</td>\n",
       "      <td>100</td>\n",
       "      <td>Cubic</td>\n",
       "      <td>0.2</td>\n",
       "      <td>30.0</td>\n",
       "    </tr>\n",
       "  </tbody>\n",
       "</table>\n",
       "</div>"
      ],
      "text/plain": [
       "   Layer Height Top/Bottom Pattern  Intial layer Height  Infill Density  \\\n",
       "0           0.2               Line                  0.2             100   \n",
       "1           0.2               Line                  0.2             100   \n",
       "2           0.2               Line                  0.2             100   \n",
       "3           0.2               Line                  0.2             100   \n",
       "4           0.2               Line                  0.2             100   \n",
       "\n",
       "  Infill Pattern Infill Line Width  Impact Strength(J/m)  \n",
       "0           Line               0.2                  23.6  \n",
       "1           Grid               0.2                  29.0  \n",
       "2      Triangles               0.2                  62.6  \n",
       "3    Tri-Hexagon               0.2                  13.6  \n",
       "4          Cubic               0.2                  30.0  "
      ]
     },
     "execution_count": 245,
     "metadata": {},
     "output_type": "execute_result"
    }
   ],
   "source": [
    "import pandas as pd\n",
    "import sklearn\n",
    "import seaborn as sns\n",
    "import matplotlib.pyplot as plt\n",
    "\n",
    "A=pd.read_excel(\"Impact Test Excel.xlsx\")\n",
    "A.info()\n",
    "A.head()"
   ]
  },
  {
   "cell_type": "code",
   "execution_count": 246,
   "metadata": {},
   "outputs": [
    {
     "name": "stderr",
     "output_type": "stream",
     "text": [
      "C:\\ProgramData\\Anaconda3\\lib\\site-packages\\seaborn\\_decorators.py:36: FutureWarning: Pass the following variables as keyword args: x, y. From version 0.12, the only valid positional argument will be `data`, and passing other arguments without an explicit keyword will result in an error or misinterpretation.\n",
      "  warnings.warn(\n"
     ]
    },
    {
     "data": {
      "text/plain": [
       "<AxesSubplot:xlabel='Infill Pattern', ylabel='Impact Strength(J/m)'>"
      ]
     },
     "execution_count": 246,
     "metadata": {},
     "output_type": "execute_result"
    },
    {
     "data": {
      "image/png": "[encoded data removed]",
      "text/plain": [
       "<Figure size 1152x360 with 1 Axes>"
      ]
     },
     "metadata": {
      "needs_background": "light"
     },
     "output_type": "display_data"
    }
   ],
   "source": [
    "Z=A.drop([\"Top/Bottom Pattern\",\"Infill Line Width\"],axis=1)\n",
    "Z\n",
    "X=Z.iloc[:,:-1]\n",
    "Y=Z.iloc[:,-1]\n",
    "fig, ax = plt.subplots(figsize=(16, 5))\n",
    "sns.barplot(Z[\"Infill Pattern\"],Z[\"Impact Strength(J/m)\"],ax=ax)\n"
   ]
  },
  {
   "cell_type": "code",
   "execution_count": 247,
   "metadata": {},
   "outputs": [
    {
     "data": {
      "text/plain": [
       "(array([8., 1., 4., 5., 7., 8., 0., 2., 2., 2.]),\n",
       " array([ 4.  ,  9.86, 15.72, 21.58, 27.44, 33.3 , 39.16, 45.02, 50.88,\n",
       "        56.74, 62.6 ]),\n",
       " <BarContainer object of 10 artists>)"
      ]
     },
     "execution_count": 247,
     "metadata": {},
     "output_type": "execute_result"
    },
    {
     "data": {
      "image/png": "[encoded data removed]",
      "text/plain": [
       "<Figure size 432x288 with 1 Axes>"
      ]
     },
     "metadata": {
      "needs_background": "light"
     },
     "output_type": "display_data"
    }
   ],
   "source": [
    "plt.hist(Z[\"Impact Strength(J/m)\"])"
   ]
  },
  {
   "cell_type": "code",
   "execution_count": 268,
   "metadata": {},
   "outputs": [
    {
     "name": "stdout",
     "output_type": "stream",
     "text": [
      "<class 'pandas.core.frame.DataFrame'>\n",
      "RangeIndex: 39 entries, 0 to 38\n",
      "Data columns (total 5 columns):\n",
      " #   Column                Non-Null Count  Dtype  \n",
      "---  ------                --------------  -----  \n",
      " 0   Layer Height          39 non-null     float64\n",
      " 1   Intial layer Height   39 non-null     float64\n",
      " 2   Infill Density        39 non-null     int64  \n",
      " 3   Infill Pattern        39 non-null     object \n",
      " 4   Impact Strength(J/m)  39 non-null     float64\n",
      "dtypes: float64(3), int64(1), object(1)\n",
      "memory usage: 1.4+ KB\n"
     ]
    },
    {
     "data": {
      "image/png": "[encoded data removed]",
      "text/plain": [
       "<Figure size 432x288 with 1 Axes>"
      ]
     },
     "metadata": {
      "needs_background": "light"
     },
     "output_type": "display_data"
    }
   ],
   "source": [
    "plt.scatter(Z[\"Impact Strength(J/m)\"],Z[\"Layer Height\"])\n",
    "Z.info()"
   ]
  },
  {
   "cell_type": "code",
   "execution_count": 249,
   "metadata": {},
   "outputs": [],
   "source": [
    "from sklearn.compose import ColumnTransformer\n",
    "from sklearn.preprocessing import OneHotEncoder\n",
    "from sklearn.linear_model import LogisticRegression\n",
    "from sklearn.ensemble import RandomForestRegressor\n",
    "from sklearn.pipeline import Pipeline\n",
    "from sklearn.linear_model import LinearRegression\n",
    "from sklearn.ensemble import RandomForestRegressor\n",
    "\n",
    "\n",
    "X=Z.iloc[:,:-1]\n",
    "Y=Z.iloc[:,-1]\n",
    "\n"
   ]
  },
  {
   "cell_type": "code",
   "execution_count": 250,
   "metadata": {},
   "outputs": [],
   "source": [
    "trf = ColumnTransformer([\n",
    "    ('trf',OneHotEncoder(sparse=False,drop='first'),[\"Infill Pattern\"])\n",
    "]\n",
    ",remainder='passthrough')\n",
    "X=trf.fit_transform(X)\n",
    "\n",
    "\n",
    "\n",
    "\n",
    "\n"
   ]
  },
  {
   "cell_type": "code",
   "execution_count": 251,
   "metadata": {},
   "outputs": [],
   "source": [
    "from sklearn.model_selection import train_test_split\n",
    "X_train,X_test,Y_train,Y_test = train_test_split(X,Y,test_size=0.3, random_state=70)"
   ]
  },
  {
   "cell_type": "code",
   "execution_count": 252,
   "metadata": {},
   "outputs": [],
   "source": [
    "from sklearn.linear_model import LinearRegression\n",
    "Lr=LinearRegression()\n",
    "Lr.fit(X_train,Y_train)\n",
    "pred=Lr.predict(X_test)\n",
    "\n"
   ]
  },
  {
   "cell_type": "code",
   "execution_count": 253,
   "metadata": {},
   "outputs": [
    {
     "name": "stdout",
     "output_type": "stream",
     "text": [
      "MAE:4.154166666666659\n"
     ]
    }
   ],
   "source": [
    "from sklearn import metrics\n",
    "print(f'MAE:{metrics.mean_absolute_error(Y_test, pred)}')"
   ]
  },
  {
   "cell_type": "code",
   "execution_count": 254,
   "metadata": {},
   "outputs": [
    {
     "name": "stdout",
     "output_type": "stream",
     "text": [
      "Test_model_score: 0.6953952778952714\n",
      "Train_model_score: 0.9353701280060761\n"
     ]
    }
   ],
   "source": [
    "from sklearn.ensemble import RandomForestRegressor\n",
    "rfr = RandomForestRegressor()\n",
    "rfr.fit(X_train,Y_train)\n",
    "print(f\"Test_model_score: {rfr.score(X_test,Y_test)}\")\n",
    "print(f\"Train_model_score: {rfr.score(X_train,Y_train)}\")\n",
    "\n"
   ]
  },
  {
   "cell_type": "code",
   "execution_count": 260,
   "metadata": {},
   "outputs": [],
   "source": [
    "from sklearn.tree import DecisionTreeRegressor\n",
    "\n",
    "clf = DecisionTreeRegressor()\n",
    "clf.fit(X_train,Y_train)\n",
    "pred=clf.predict(X_test)"
   ]
  },
  {
   "cell_type": "code",
   "execution_count": 265,
   "metadata": {},
   "outputs": [
    {
     "name": "stdout",
     "output_type": "stream",
     "text": [
      "Model Accuracy:0.7946620421284156\n"
     ]
    }
   ],
   "source": [
    "print(f\"Model Accuracy:{clf.score(X_test,Y_test)}\")"
   ]
  },
  {
   "cell_type": "code",
   "execution_count": 266,
   "metadata": {},
   "outputs": [
    {
     "name": "stdout",
     "output_type": "stream",
     "text": [
      "Model Accuracy:1.0\n"
     ]
    }
   ],
   "source": [
    "print(f\"Model Accuracy:{clf.score(X_train,Y_train)}\")"
   ]
  },
  {
   "cell_type": "code",
   "execution_count": 166,
   "metadata": {},
   "outputs": [
    {
     "data": {
      "text/plain": [
       "array([[ 0.14142136, -1.        ,  0.        , -0.35355339, -0.28284271,\n",
       "        -0.28284271, -0.35355339,  5.09901951, -0.35355339, -0.28284271,\n",
       "        -0.19611614, -0.19611614, -0.19611614, -0.35355339, -0.35355339,\n",
       "        -0.28284271],\n",
       "       [ 0.14142136, -1.        ,  0.        , -0.35355339, -0.28284271,\n",
       "        -0.28284271, -0.35355339, -0.19611614, -0.35355339, -0.28284271,\n",
       "        -0.19611614,  5.09901951, -0.19611614, -0.35355339, -0.35355339,\n",
       "        -0.28284271],\n",
       "       [ 1.41421356, -1.        ,  0.        , -0.35355339, -0.28284271,\n",
       "         3.53553391, -0.35355339, -0.19611614, -0.35355339, -0.28284271,\n",
       "        -0.19611614, -0.19611614, -0.19611614, -0.35355339, -0.35355339,\n",
       "        -0.28284271],\n",
       "       [-1.13137085, -1.        ,  0.        , -0.35355339, -0.28284271,\n",
       "        -0.28284271, -0.35355339, -0.19611614, -0.35355339, -0.28284271,\n",
       "         5.09901951, -0.19611614, -0.19611614, -0.35355339, -0.35355339,\n",
       "        -0.28284271],\n",
       "       [ 1.41421356, -1.        ,  0.        , -0.35355339, -0.28284271,\n",
       "        -0.28284271, -0.35355339, -0.19611614, -0.35355339,  3.53553391,\n",
       "        -0.19611614, -0.19611614, -0.19611614, -0.35355339, -0.35355339,\n",
       "        -0.28284271],\n",
       "       [-1.13137085, -1.        ,  0.        , -0.35355339, -0.28284271,\n",
       "        -0.28284271, -0.35355339, -0.19611614, -0.35355339, -0.28284271,\n",
       "        -0.19611614,  5.09901951, -0.19611614, -0.35355339, -0.35355339,\n",
       "        -0.28284271],\n",
       "       [ 1.41421356, -1.        ,  0.        , -0.35355339, -0.28284271,\n",
       "        -0.28284271, -0.35355339, -0.19611614, -0.35355339, -0.28284271,\n",
       "         5.09901951, -0.19611614, -0.19611614, -0.35355339, -0.35355339,\n",
       "        -0.28284271],\n",
       "       [-1.13137085, -1.        ,  0.        , -0.35355339, -0.28284271,\n",
       "        -0.28284271, -0.35355339, -0.19611614, -0.35355339, -0.28284271,\n",
       "        -0.19611614, -0.19611614,  5.09901951, -0.35355339, -0.35355339,\n",
       "        -0.28284271],\n",
       "       [ 1.41421356, -1.        ,  0.        , -0.35355339, -0.28284271,\n",
       "        -0.28284271, -0.35355339,  5.09901951, -0.35355339, -0.28284271,\n",
       "        -0.19611614, -0.19611614, -0.19611614, -0.35355339, -0.35355339,\n",
       "        -0.28284271],\n",
       "       [ 1.41421356, -1.        ,  0.        , -0.35355339, -0.28284271,\n",
       "        -0.28284271, -0.35355339, -0.19611614, -0.35355339, -0.28284271,\n",
       "        -0.19611614, -0.19611614,  5.09901951, -0.35355339, -0.35355339,\n",
       "        -0.28284271],\n",
       "       [ 0.14142136, -1.        ,  0.        , -0.35355339, -0.28284271,\n",
       "        -0.28284271, -0.35355339, -0.19611614, -0.35355339, -0.28284271,\n",
       "        -0.19611614, -0.19611614, -0.19611614, -0.35355339, -0.35355339,\n",
       "         3.53553391],\n",
       "       [ 1.41421356, -1.        ,  0.        , -0.35355339,  3.53553391,\n",
       "        -0.28284271, -0.35355339, -0.19611614, -0.35355339, -0.28284271,\n",
       "        -0.19611614, -0.19611614, -0.19611614, -0.35355339, -0.35355339,\n",
       "        -0.28284271]])"
      ]
     },
     "execution_count": 166,
     "metadata": {},
     "output_type": "execute_result"
    }
   ],
   "source": [
    "Y_test_scaled"
   ]
  },
  {
   "cell_type": "code",
   "execution_count": 173,
   "metadata": {},
   "outputs": [
    {
     "name": "stdout",
     "output_type": "stream",
     "text": [
      "Train_model_score: 0.9339082403846152\n"
     ]
    }
   ],
   "source": [
    "\n"
   ]
  },
  {
   "cell_type": "code",
   "execution_count": null,
   "metadata": {},
   "outputs": [],
   "source": [
    "\n"
   ]
  }
 ],
 "metadata": {
  "kernelspec": {
   "display_name": "Python 3",
   "language": "python",
   "name": "python3"
  },
  "language_info": {
   "codemirror_mode": {
    "name": "ipython",
    "version": 3
   },
   "file_extension": ".py",
   "mimetype": "text/x-python",
   "name": "python",
   "nbconvert_exporter": "python",
   "pygments_lexer": "ipython3",
   "version": "3.8.5"
  }
 },
 "nbformat": 4,
 "nbformat_minor": 4
}
